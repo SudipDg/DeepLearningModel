{
  "nbformat": 4,
  "nbformat_minor": 0,
  "metadata": {
    "colab": {
      "provenance": [],
      "toc_visible": true,
      "authorship_tag": "ABX9TyM2/25hiT4gVDPLIOIxrD8L",
      "include_colab_link": true
    },
    "kernelspec": {
      "name": "python3",
      "display_name": "Python 3"
    },
    "language_info": {
      "name": "python"
    }
  },
  "cells": [
    {
      "cell_type": "markdown",
      "metadata": {
        "id": "view-in-github",
        "colab_type": "text"
      },
      "source": [
        "<a href=\"https://colab.research.google.com/github/SudipDg/DeepLearningModel/blob/main/generative_deep_learning_0.ipynb\" target=\"_parent\"><img src=\"https://colab.research.google.com/assets/colab-badge.svg\" alt=\"Open In Colab\"/></a>"
      ]
    },
    {
      "cell_type": "code",
      "execution_count": null,
      "metadata": {
        "id": "EnkT1rZMUh1M"
      },
      "outputs": [],
      "source": [
        "!git clone https://github.com/davidADSP/GDL_code.git"
      ]
    },
    {
      "cell_type": "code",
      "source": [
        "!python3 -V"
      ],
      "metadata": {
        "id": "773k1h_bVV6V"
      },
      "execution_count": null,
      "outputs": []
    },
    {
      "cell_type": "markdown",
      "source": [
        "## ***The next line of code may not be required.***"
      ],
      "metadata": {
        "id": "VjMQdrCFauuI"
      }
    },
    {
      "cell_type": "code",
      "source": [
        "!pip install virtualenv virtualenvwrapper"
      ],
      "metadata": {
        "id": "l_mGKur-V4gK"
      },
      "execution_count": null,
      "outputs": []
    },
    {
      "cell_type": "code",
      "source": [
        "!pip install -r ./GDL_code/requirements.txt"
      ],
      "metadata": {
        "id": "SnbMHPWUWniV"
      },
      "execution_count": null,
      "outputs": []
    },
    {
      "cell_type": "code",
      "source": [
        "import keras\n",
        "print(keras.__version__)"
      ],
      "metadata": {
        "id": "54PpMc7kXeRJ"
      },
      "execution_count": null,
      "outputs": []
    },
    {
      "cell_type": "code",
      "source": [
        "!pip list"
      ],
      "metadata": {
        "id": "24vuwMJ-ZV2K"
      },
      "execution_count": null,
      "outputs": []
    },
    {
      "cell_type": "code",
      "source": [
        "!echo $PATH"
      ],
      "metadata": {
        "id": "-wv6zv-mZu7m"
      },
      "execution_count": null,
      "outputs": []
    }
  ]
}